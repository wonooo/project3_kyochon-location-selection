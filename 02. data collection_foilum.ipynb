{
 "cells": [
  {
   "cell_type": "code",
   "execution_count": null,
   "id": "94fa4906",
   "metadata": {},
   "outputs": [],
   "source": [
    "import requests\n",
    "from urllib.parse import urlparse\n",
    "import pandas as pd\n",
    "from haversine import haversine\n",
    "import folium\n",
    "from pandas import DataFrame,Series\n",
    "import re"
   ]
  },
  {
   "cell_type": "code",
   "execution_count": null,
   "id": "ec82dd34",
   "metadata": {},
   "outputs": [],
   "source": [
    "#주소입력 -> 위도 경도 출력 함수\n",
    "def getLatLng(addr):\n",
    "    url = 'https://dapi.kakao.com/v2/local/search/address.json?&query=' + addr\n",
    "    result = requests.get(urlparse(url).geturl(), headers={'Authorization': 'KakaoAK 39938c70588232cbb9c25b118e6772a3'}).json()\n",
    "    match_first = result['documents'][0]['address']\n",
    "    \n",
    "    return float(match_first['y']),float(match_first['x'])"
   ]
  },
  {
   "cell_type": "code",
   "execution_count": null,
   "id": "6f7c9acb",
   "metadata": {},
   "outputs": [],
   "source": [
    "#교촌치킨 지점별 거리 dataframe 만들기\n",
    "\n",
    "seoul = pd.read_csv(\"c:/data/gyochon_seoul.csv\")"
   ]
  },
  {
   "cell_type": "code",
   "execution_count": null,
   "id": "f26ddce6",
   "metadata": {},
   "outputs": [],
   "source": [
    "lat = seoul.latitude\n",
    "long = seoul.longitude"
   ]
  },
  {
   "cell_type": "code",
   "execution_count": null,
   "id": "4731c8df",
   "metadata": {},
   "outputs": [],
   "source": [
    "#haversine 함수 사용하기 위한 tuple형으로 저장\n",
    "lat_long = []\n",
    "for i in seoul.index:\n",
    "    lat_long.append((lat[i],long[i]))"
   ]
  },
  {
   "cell_type": "code",
   "execution_count": null,
   "id": "e0df6106",
   "metadata": {},
   "outputs": [],
   "source": [
    "#haversine함수의 출력을 distance에 저장\n",
    "distance = []\n",
    "for i in lat_long:\n",
    "    for j in lat_long:\n",
    "        distance.append(haversine(i,j))"
   ]
  },
  {
   "cell_type": "code",
   "execution_count": null,
   "id": "803ade86",
   "metadata": {},
   "outputs": [],
   "source": [
    "#리스트 쪼게는 함수 선언\n",
    "def list_chunk(lst, n):\n",
    "    return [lst[i:i+n] for i in range(0, len(lst), n)]"
   ]
  },
  {
   "cell_type": "code",
   "execution_count": null,
   "id": "26705b6e",
   "metadata": {},
   "outputs": [],
   "source": [
    "len(distance) #45796 = 214 * 214"
   ]
  },
  {
   "cell_type": "code",
   "execution_count": null,
   "id": "c3605ece",
   "metadata": {},
   "outputs": [],
   "source": [
    "#45796개의 요소를 214개씩 자르기\n",
    "distance_chunked = list_chunk(distance,214)"
   ]
  },
  {
   "cell_type": "code",
   "execution_count": null,
   "id": "275f8a35",
   "metadata": {},
   "outputs": [],
   "source": [
    "#store_name을 인덱스와 컬럼으로 하는 DF생성\n",
    "final = DataFrame(index = seoul.store_name, columns = seoul.store_name)"
   ]
  },
  {
   "cell_type": "code",
   "execution_count": null,
   "id": "27a1cc0b",
   "metadata": {},
   "outputs": [],
   "source": [
    "#df 채우기\n",
    "for i in range(len(final)):\n",
    "    final.iloc[:,i] = distance_chunked[i]   "
   ]
  },
  {
   "cell_type": "code",
   "execution_count": null,
   "id": "097b0a3e",
   "metadata": {},
   "outputs": [],
   "source": [
    "#저장, 한글이 깨지지 않게 하기 위한 encoding\n",
    "final.to_csv(\"c:/data/seoul_distance_between.csv\",mode = 'w',encoding='euc-kr')"
   ]
  },
  {
   "cell_type": "code",
   "execution_count": null,
   "id": "3e6e290a",
   "metadata": {},
   "outputs": [],
   "source": [
    "------------------------------------------------------------------------------------------------------------\n",
    "# 지점간 거리 가까운 순서대로 만들기 "
   ]
  },
  {
   "cell_type": "code",
   "execution_count": null,
   "id": "b92fa7f1",
   "metadata": {},
   "outputs": [],
   "source": [
    "#df 생성\n",
    "near_order = DataFrame(index = final.index, columns = range(len(final)))\n",
    "\n",
    "\n",
    "for i in range(len(near_order)):\n",
    "    temp = DataFrame(final.iloc[:,i])\n",
    "    temp = temp.sort_values(by=temp.columns[0])\n",
    "    temp.iloc[:,0] = round(temp.iloc[:,0],5)\n",
    "    temp = temp.astype(str)\n",
    "    temp = temp.reset_index()\n",
    "    temp = temp['store_name'] + ' ' +'('+ temp.iloc[:,1] + 'Km' + ')'\n",
    "    near_order.iloc[i,:] = temp"
   ]
  },
  {
   "cell_type": "code",
   "execution_count": null,
   "id": "66bd27db",
   "metadata": {},
   "outputs": [],
   "source": [
    "#본인과의 거리를 가지는 행 제거\n",
    "del near_order[0]"
   ]
  },
  {
   "cell_type": "code",
   "execution_count": null,
   "id": "0c3e4d8d",
   "metadata": {},
   "outputs": [],
   "source": [
    "near_order.to_csv(\"c:/data/near_order.csv\",mode = 'w',encoding='euc-kr')"
   ]
  },
  {
   "cell_type": "code",
   "execution_count": null,
   "id": "f3f7b79a",
   "metadata": {},
   "outputs": [],
   "source": [
    "-----------------------------------------------------------------------------------------------------------\n",
    "#서울 위도 경계값  37.413294\n",
    "#각 치킨집을 지도에 시각화 하기위한 위도 경도 정보 저장"
   ]
  },
  {
   "cell_type": "code",
   "execution_count": null,
   "id": "ae593e2f",
   "metadata": {},
   "outputs": [],
   "source": [
    "#네네치킨 위도 경도\n",
    "nene = pd.read_csv(\"c:/data/네네치킨.csv\")\n",
    "\n",
    "nene_latlong = []\n",
    "for addr in nene['store_address']:\n",
    "    try:\n",
    "        nene_latlong.append(getLatLng(addr))\n",
    "    except:\n",
    "        pass\n",
    "\n",
    "len(nene_latlong) #168 중 166"
   ]
  },
  {
   "cell_type": "code",
   "execution_count": null,
   "id": "5a88634f",
   "metadata": {},
   "outputs": [],
   "source": [
    "#훌랄라치킨 위도 경도\n",
    "hulala = pd.read_csv(\"c:/data/훌랄라참숯불치킨.csv\")\n",
    "\n",
    "hulala_latlong = []\n",
    "for addr in hulala['store_address']:\n",
    "    try:\n",
    "        hulala_latlong.append(getLatLng(addr))\n",
    "    except:\n",
    "        pass\n",
    "\n",
    "len(hulala_latlong) #30 중 28"
   ]
  },
  {
   "cell_type": "code",
   "execution_count": null,
   "id": "2dd51f89",
   "metadata": {},
   "outputs": [],
   "source": [
    "#처가집치킨 위도 경도\n",
    "cheoga = pd.read_csv(\"c:/data/처갓집.csv\")\n",
    "\n",
    "cheoga_latlong =[]\n",
    "for addr in cheoga['store_address']:\n",
    "    try:\n",
    "        cheoga_latlong.append(getLatLng(addr))\n",
    "    except:\n",
    "        pass\n",
    "\n",
    "len(cheoga_latlong) #132 중 125"
   ]
  },
  {
   "cell_type": "code",
   "execution_count": null,
   "id": "e9dd2af4",
   "metadata": {},
   "outputs": [],
   "source": [
    "#페리카나 위도 경도\n",
    "pelicana = pd.read_csv(\"c:/data/페리카나.csv\")\n",
    "\n",
    "pelicana_latlong = []\n",
    "for addr in pelicana['store_address']:\n",
    "    try:\n",
    "        pelicana_latlong.append(getLatLng(addr))\n",
    "    except:\n",
    "        pass\n",
    "\n",
    "len(pelicana)\n",
    "len(pelicana_latlong) #152 중 147"
   ]
  },
  {
   "cell_type": "code",
   "execution_count": null,
   "id": "67227ae4",
   "metadata": {},
   "outputs": [],
   "source": [
    "#멕시카나\n",
    "mexicana = pd.read_csv(\"c:/data/멕시카나.csv\")\n",
    "\n",
    "mexicana_latlong = []\n",
    "for addr in mexicana['store_address']:\n",
    "    try:\n",
    "        mexicana_latlong.append(getLatLng(addr))\n",
    "    except:\n",
    "        pass\n",
    "\n",
    "len(mexicana_latlong) #70 중 68"
   ]
  },
  {
   "cell_type": "code",
   "execution_count": null,
   "id": "a8aed100",
   "metadata": {},
   "outputs": [],
   "source": [
    "#굽네 치킨\n",
    "gubne = pd.read_csv(\"c:/data/굽네치킨.csv\")\n",
    "\n",
    "gubne_latlong = []\n",
    "for addr in gubne['store_address']:\n",
    "    try:\n",
    "        gubne_latlong.append(getLatLng(addr))\n",
    "    except:\n",
    "        pass\n",
    "\n",
    "len(gubne_latlong) #171 중 155"
   ]
  },
  {
   "cell_type": "code",
   "execution_count": null,
   "id": "ec40db97",
   "metadata": {},
   "outputs": [],
   "source": [
    "#BBQ\n",
    "bbq = pd.read_csv(\"c:/data/BBQ.csv\")\n",
    "\n",
    "bbq_latlong = []\n",
    "for addr in bbq['store_address']:\n",
    "    try:\n",
    "        bbq_latlong.append(getLatLng(addr))\n",
    "    except:\n",
    "        pass\n",
    "\n",
    "len(bbq_latlong) #301 중 287"
   ]
  },
  {
   "cell_type": "code",
   "execution_count": null,
   "id": "8644578b",
   "metadata": {},
   "outputs": [],
   "source": [
    "#구 구분이 담긴 json file\n",
    "state_geo = 'https://raw.githubusercontent.com/southkorea/seoul-maps/master/kostat/2013/json/seoul_municipalities_geo_simple.json'\n",
    "\n",
    "map = folium.Map(location=[37.715133,126.734086]) #[위도,경도]"
   ]
  },
  {
   "cell_type": "code",
   "execution_count": null,
   "id": "25799d9a",
   "metadata": {},
   "outputs": [],
   "source": [
    "#서울시 구 구분\n",
    "folium.Choropleth(\n",
    "    geo_data = state_geo,\n",
    "    fill_opacity=0,\n",
    "    line_color='black',\n",
    "    name = 'choropleth').add_to(map)"
   ]
  },
  {
   "cell_type": "code",
   "execution_count": null,
   "id": "ca2beca5",
   "metadata": {},
   "outputs": [],
   "source": [
    "#교촌치킨 500m 반지름 원 그리기\n",
    "for i in seoul.index:\n",
    "    folium.Circle(lat_long[i],\n",
    "                    radius=500,\n",
    "                    fill = True,\n",
    "                    fill_opacity = 0.4,\n",
    "                    weight = 0,              \n",
    "                   ).add_to(map)\n",
    "\n",
    "for i in seoul.index:\n",
    "    folium.Circle(lat_long[i],\n",
    "                    radius=1000,\n",
    "                    fill = True,\n",
    "                    fill_opacity = 0.2,\n",
    "                    weight = 0,\n",
    "                   ).add_to(map)\n",
    "\n",
    "for i in seoul.index:\n",
    "    folium.Circle(lat_long[i],\n",
    "                    radius=1500,\n",
    "                    fill = True,\n",
    "                    fill_opacity = 0.1,\n",
    "                    weight = 0,\n",
    "                   ).add_to(map)"
   ]
  },
  {
   "cell_type": "code",
   "execution_count": null,
   "id": "a38fdf2d",
   "metadata": {},
   "outputs": [],
   "source": [
    "#교촌치킨 마커 추가    \n",
    "for i in seoul.index:\n",
    "    folium.Marker(lat_long[i],\n",
    "                  popup=str(seoul['store_name'][i]),\n",
    "                  icon=folium.Icon(color='blue',icon='star')).add_to(map)\n",
    "\n",
    "#네네치킨 마커 추가\n",
    "for i in range(len(nene_latlong)):\n",
    "    folium.Marker(nene_latlong[i],\n",
    "                  popup='네네치킨',\n",
    "                  icon=folium.Icon(color='red',icon='info-sign')).add_to(map)\n",
    "\n",
    "#훌랄라참숯불치킨 마커 추가\n",
    "for i in range(len(hulala_latlong)):\n",
    "    folium.Marker(hulala_latlong[i],\n",
    "                  popup='훌랄라참숯불치킨',\n",
    "                  icon=folium.Icon(color='red',icon='info-sign')).add_to(map)\n",
    "\n",
    "#처갓집 마커 추가\n",
    "for i in range(len(cheoga_latlong)):\n",
    "    folium.Marker(cheoga_latlong[i],\n",
    "                  popup='처갓집',\n",
    "                  icon=folium.Icon(color='red',icon='info-sign')).add_to(map)\n",
    "\n",
    "#페리카나 마커 추가\n",
    "for i in range(len(pelicana_latlong)):\n",
    "    folium.Marker(pelicana_latlong[i],\n",
    "                  popup='페리카나',\n",
    "                  icon=folium.Icon(color='red',icon='info-sign')).add_to(map)\n",
    "\n",
    "\n",
    "#멕시카나 마커 추가\n",
    "for i in range(len(mexicana_latlong)):\n",
    "    folium.Marker(mexicana_latlong[i],\n",
    "                  popup='멕시카나',\n",
    "                  icon=folium.Icon(color='red',icon='info-sign')).add_to(map)\n",
    "\n",
    "\n",
    "#굽네 마커 추가\n",
    "for i in range(len(gubne_latlong)):\n",
    "    folium.Marker(gubne_latlong[i],\n",
    "                  popup='굽네치킨',\n",
    "                  icon=folium.Icon(color='red',icon='info-sign')).add_to(map)\n",
    "\n",
    "\n",
    "#BBQ 마커 추가\n",
    "for i in range(len(bbq_latlong)):\n",
    "    folium.Marker(bbq_latlong[i],\n",
    "                  popup='BBQ',\n",
    "                  icon=folium.Icon(color='red',icon='info-sign')).add_to(map)\n",
    "\n",
    "\n",
    "map.save(\"c:/data/test.html\")"
   ]
  },
  {
   "cell_type": "code",
   "execution_count": null,
   "id": "a536d788",
   "metadata": {},
   "outputs": [],
   "source": [
    "----------------------------------------------------------------------------------------------------------------\n",
    "#상권_코드_명에서 동 추출하기"
   ]
  },
  {
   "cell_type": "code",
   "execution_count": null,
   "id": "e7672de2",
   "metadata": {},
   "outputs": [],
   "source": [
    "seoul = pd.read_csv(\"c:/data/서울시 우리마을가게 상권분석서비스(상권-추정유동인구).csv\",encoding = 'euc-kr')"
   ]
  },
  {
   "cell_type": "code",
   "execution_count": null,
   "id": "1ef91392",
   "metadata": {},
   "outputs": [],
   "source": [
    "seoul['기준 년코드'].value_counts()"
   ]
  },
  {
   "cell_type": "code",
   "execution_count": null,
   "id": "5ea56ab7",
   "metadata": {},
   "outputs": [],
   "source": [
    "#2020년도 데이터만 사용\n",
    "seoul = seoul[seoul['기준 년코드'] ==  2020]\n",
    "code_name = seoul['상권_코드_명']\n",
    "\n",
    "code_name = '서울' + ' ' + code_name"
   ]
  },
  {
   "cell_type": "code",
   "execution_count": null,
   "id": "0faa559f",
   "metadata": {},
   "outputs": [],
   "source": [
    "#키워드 입력하면 주소에서 동을 뽑아내는 함수\n",
    "def getDong(keyword):\n",
    "    searching = keyword\n",
    "    url = 'https://dapi.kakao.com/v2/local/search/keyword.json?query={}'.format(searching)\n",
    "    headers = {\n",
    "        \"Authorization\": \"KakaoAK 39938c70588232cbb9c25b118e6772a3\"\n",
    "    }\n",
    "    places = requests.get(url, headers = headers).json()['documents'][0]['address_name']\n",
    "    dong = re.findall('구 .+동', places)\n",
    "    dong = dong[0].replace('구 ','')\n",
    "    return dong"
   ]
  },
  {
   "cell_type": "code",
   "execution_count": null,
   "id": "1f56006f",
   "metadata": {},
   "outputs": [],
   "source": [
    "#api사용해 구 따오기 1496:2020년 1분기 상권 수\n",
    "code_dong = []\n",
    "cnt = 0\n",
    "\n",
    "for i in range(1496):\n",
    "    cnt +=1\n",
    "    try:\n",
    "        code_dong.append(getDong(code_name[i]))\n",
    "    except:\n",
    "        code_dong.append(code_name[i])\n",
    "        \n",
    "    if cnt %10 ==0:\n",
    "        print(cnt)\n",
    "\n",
    "\n",
    "x = code_dong\n",
    "\n",
    "x = DataFrame(x)\n",
    "x.to_csv(\"c:/data/2020유동인구 동별.csv\",encoding = 'euc-kr')"
   ]
  }
 ],
 "metadata": {
  "kernelspec": {
   "display_name": "Python 3",
   "language": "python",
   "name": "python3"
  },
  "language_info": {
   "codemirror_mode": {
    "name": "ipython",
    "version": 3
   },
   "file_extension": ".py",
   "mimetype": "text/x-python",
   "name": "python",
   "nbconvert_exporter": "python",
   "pygments_lexer": "ipython3",
   "version": "3.8.8"
  }
 },
 "nbformat": 4,
 "nbformat_minor": 5
}
