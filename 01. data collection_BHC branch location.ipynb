{
 "cells": [
  {
   "cell_type": "code",
   "execution_count": null,
   "id": "6da1fede",
   "metadata": {},
   "outputs": [],
   "source": [
    "from selenium.webdriver.common.keys import Keys\n",
    "from selenium import webdriver\n",
    "import time\n",
    "from bs4 import BeautifulSoup\n",
    "import re"
   ]
  },
  {
   "cell_type": "code",
   "execution_count": null,
   "id": "5417fe96",
   "metadata": {},
   "outputs": [],
   "source": [
    "url = 'https://www.bhc.co.kr/location/search.asp'   # url\n",
    "driver = webdriver.Chrome('c:/data/chromedriver.exe')\n",
    "driver.get(url) \n",
    "driver.find_element_by_id('search_sidoselectBoxSelectedTopCover2').click()    \n",
    "driver.find_element_by_id('sel9').click()                             \n",
    "driver.implicitly_wait(3)\n",
    "driver.find_element_by_class_name('middle').click()"
   ]
  },
  {
   "cell_type": "code",
   "execution_count": null,
   "id": "e746958c",
   "metadata": {},
   "outputs": [],
   "source": [
    "td = []\n",
    "path = []\n",
    "\n",
    "# td까지 따는 방법\n",
    "for button in list(range(1,11)) + [12] + list(range(4,14)) + list(range(4,7)):\n",
    "    # 다음페이지로 넘기기\n",
    "    driver.find_element_by_tag_name('body').send_keys(Keys.END)\n",
    "    time.sleep(1)\n",
    "    path.append('//*[@id=\"datazone\"]/div/a['+str(button)+']')\n",
    "    driver.find_element_by_xpath('//*[@id=\"datazone\"]/div/a['+str(button)+']').click()\n",
    "    time.sleep(1)\n",
    "    \n",
    "    html = driver.page_source\n",
    "    soup = BeautifulSoup(html, 'html.parser')\n",
    "    tr = soup.select('tbody > tr')\n",
    "    \n",
    "    for i in range(0,10):\n",
    "        td.append(tr[i].select_one('td').next_sibling.next_sibling)\n",
    "\n",
    "len(td)"
   ]
  },
  {
   "cell_type": "code",
   "execution_count": null,
   "id": "9418622a",
   "metadata": {},
   "outputs": [],
   "source": [
    "import re"
   ]
  },
  {
   "cell_type": "code",
   "execution_count": null,
   "id": "0752b7d0",
   "metadata": {},
   "outputs": [],
   "source": [
    "name = []\n",
    "text = []\n",
    "# 지점명, 주소\n",
    "for i in range(0,240):\n",
    "    if td[i].select('div') != []:\n",
    "        name.append(td[i].select('div')[0].text)\n",
    "        text.append(td[i].select('p.mt10.mb10')[0].text.lstrip('\\n주소 : ').rstrip())\n",
    "    else:\n",
    "        name.append(td[i].select('a')[0].text.strip())   \n",
    "        text.append(td[i].select('p.mt10.mb10')[0].text.lstrip('\\n주소 : ').rstrip())\n",
    "\n",
    "addr = []"
   ]
  },
  {
   "cell_type": "code",
   "execution_count": null,
   "id": "454562f6",
   "metadata": {},
   "outputs": [],
   "source": [
    "for i in text:\n",
    "    if i.endswith('전화번호 :'):\n",
    "        addr.append(i.rstrip(' \\n전화번호 :'))\n",
    "    else:\n",
    "        addr.append(i[0:i.index(re.findall('\\n전화번호 : .\\d{0,5}-\\d{3,4}-\\d{0,4}|\\n전화번호 : .\\d{0,5}-\\d{0,5}|\\n전화번호 : .\\d{1,11}', i)[0])].strip())        \n",
    "\n",
    "addr\n",
    "len(addr)"
   ]
  },
  {
   "cell_type": "code",
   "execution_count": null,
   "id": "49f5487c",
   "metadata": {},
   "outputs": [],
   "source": [
    "data = pd.DataFrame({'name': name, 'addr': addr})\n",
    "data"
   ]
  },
  {
   "cell_type": "code",
   "execution_count": null,
   "id": "f3ef96d4",
   "metadata": {},
   "outputs": [],
   "source": [
    "data.to_csv(\"c:/data/bhc_data.csv\", encoding='ms949')"
   ]
  }
 ],
 "metadata": {
  "kernelspec": {
   "display_name": "Python 3",
   "language": "python",
   "name": "python3"
  },
  "language_info": {
   "codemirror_mode": {
    "name": "ipython",
    "version": 3
   },
   "file_extension": ".py",
   "mimetype": "text/x-python",
   "name": "python",
   "nbconvert_exporter": "python",
   "pygments_lexer": "ipython3",
   "version": "3.8.8"
  }
 },
 "nbformat": 4,
 "nbformat_minor": 5
}
